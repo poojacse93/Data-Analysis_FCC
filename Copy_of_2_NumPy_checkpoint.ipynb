{
  "nbformat": 4,
  "nbformat_minor": 0,
  "metadata": {
    "kernelspec": {
      "display_name": "Python 3",
      "language": "python",
      "name": "python3"
    },
    "language_info": {
      "codemirror_mode": {
        "name": "ipython",
        "version": 3
      },
      "file_extension": ".py",
      "mimetype": "text/x-python",
      "name": "python",
      "nbconvert_exporter": "python",
      "pygments_lexer": "ipython3",
      "version": "3.8.1"
    },
    "colab": {
      "name": "Copy of 2. NumPy-checkpoint.ipynb",
      "provenance": [],
      "include_colab_link": true
    }
  },
  "cells": [
    {
      "cell_type": "markdown",
      "metadata": {
        "id": "view-in-github",
        "colab_type": "text"
      },
      "source": [
        "<a href=\"https://colab.research.google.com/github/poojacse93/Data-Analysis_FCC/blob/master/Copy_of_2_NumPy_checkpoint.ipynb\" target=\"_parent\"><img src=\"https://colab.research.google.com/assets/colab-badge.svg\" alt=\"Open In Colab\"/></a>"
      ]
    },
    {
      "cell_type": "markdown",
      "metadata": {
        "id": "nyPp1Wr0UkO0",
        "colab_type": "text"
      },
      "source": [
        "![rmotr](https://user-images.githubusercontent.com/7065401/52071918-bda15380-2562-11e9-828c-7f95297e4a82.png)\n",
        "<hr style=\"margin-bottom: 40px;\">\n",
        "\n",
        "<img src=\"https://user-images.githubusercontent.com/7065401/39118381-910eb0c2-46e9-11e8-81f1-a5b897401c23.jpeg\"\n",
        "    style=\"width:300px; float: right; margin: 0 40px 40px 40px;\"></img>\n",
        "\n",
        "# Numpy: Numeric computing library\n",
        "\n",
        "NumPy (Numerical Python) is one of the core packages for numerical computing in Python. Pandas, Matplotlib, Statmodels and many other Scientific libraries rely on NumPy.\n",
        "\n",
        "NumPy major contributions are:\n",
        "\n",
        "* Efficient numeric computation with C primitives\n",
        "* Efficient collections with vectorized operations\n",
        "* An integrated and natural Linear Algebra API\n",
        "* A C API for connecting NumPy with libraries written in C, C++, or FORTRAN.\n",
        "\n",
        "Let's develop on efficiency. In Python, **everything is an object**, which means that even simple ints are also objects, with all the required machinery to make object work. We call them \"Boxed Ints\". In contrast, NumPy uses primitive numeric types (floats, ints) which makes storing and computation efficient."
      ]
    },
    {
      "cell_type": "markdown",
      "metadata": {
        "id": "HzvOuuQGUkO1",
        "colab_type": "text"
      },
      "source": [
        "<img src=\"https://docs.google.com/drawings/d/e/2PACX-1vTkDtKYMUVdpfVb3TTpr_8rrVtpal2dOknUUEOu85wJ1RitzHHf5nsJqz1O0SnTt8BwgJjxXMYXyIqs/pub?w=726&h=396\" />\n"
      ]
    },
    {
      "cell_type": "markdown",
      "metadata": {
        "id": "8oR0eY3HUkO2",
        "colab_type": "text"
      },
      "source": [
        "![purple-divider](https://user-images.githubusercontent.com/7065401/52071927-c1cd7100-2562-11e9-908a-dde91ba14e59.png)\n",
        "\n",
        "## Hands on! "
      ]
    },
    {
      "cell_type": "code",
      "metadata": {
        "id": "C2dij9ISUkO4",
        "colab_type": "code",
        "colab": {}
      },
      "source": [
        "import sys\n",
        "import numpy as np"
      ],
      "execution_count": null,
      "outputs": []
    },
    {
      "cell_type": "markdown",
      "metadata": {
        "id": "C3m1pJQuUkPC",
        "colab_type": "text"
      },
      "source": [
        "## Basic Numpy Arrays"
      ]
    },
    {
      "cell_type": "code",
      "metadata": {
        "id": "46iyjkY7UkPD",
        "colab_type": "code",
        "colab": {},
        "outputId": "230ba63e-9bb5-488a-9541-3bb2644c1838"
      },
      "source": [
        "np.array([1, 2, 3, 4])"
      ],
      "execution_count": null,
      "outputs": [
        {
          "output_type": "execute_result",
          "data": {
            "text/plain": [
              "array([1, 2, 3, 4])"
            ]
          },
          "metadata": {
            "tags": []
          },
          "execution_count": 2
        }
      ]
    },
    {
      "cell_type": "code",
      "metadata": {
        "id": "5MVt5v4RUkPJ",
        "colab_type": "code",
        "colab": {}
      },
      "source": [
        "a = np.array([1, 2, 3, 4])"
      ],
      "execution_count": null,
      "outputs": []
    },
    {
      "cell_type": "code",
      "metadata": {
        "id": "QsBudorOUkPN",
        "colab_type": "code",
        "colab": {}
      },
      "source": [
        "b = np.array([0, .5, 1, 1.5, 2])"
      ],
      "execution_count": null,
      "outputs": []
    },
    {
      "cell_type": "code",
      "metadata": {
        "id": "RjPibD5mUkPS",
        "colab_type": "code",
        "colab": {},
        "outputId": "9e7e698c-2e11-4fc5-d532-802fd5d59fb6"
      },
      "source": [
        "a[0], a[1]"
      ],
      "execution_count": null,
      "outputs": [
        {
          "output_type": "execute_result",
          "data": {
            "text/plain": [
              "(1, 2)"
            ]
          },
          "metadata": {
            "tags": []
          },
          "execution_count": 5
        }
      ]
    },
    {
      "cell_type": "code",
      "metadata": {
        "id": "zZMgh0YqUkPX",
        "colab_type": "code",
        "colab": {},
        "outputId": "10aad0f9-feb1-478c-f3c8-2c523d38d2a0"
      },
      "source": [
        "a[0:]"
      ],
      "execution_count": null,
      "outputs": [
        {
          "output_type": "execute_result",
          "data": {
            "text/plain": [
              "array([1, 2, 3, 4])"
            ]
          },
          "metadata": {
            "tags": []
          },
          "execution_count": 6
        }
      ]
    },
    {
      "cell_type": "code",
      "metadata": {
        "id": "j4TR_cmcUkPc",
        "colab_type": "code",
        "colab": {},
        "outputId": "eab0e3bc-7fbf-4402-ee1d-3289a3f94d88"
      },
      "source": [
        "a[1:3]"
      ],
      "execution_count": null,
      "outputs": [
        {
          "output_type": "execute_result",
          "data": {
            "text/plain": [
              "array([2, 3])"
            ]
          },
          "metadata": {
            "tags": []
          },
          "execution_count": 7
        }
      ]
    },
    {
      "cell_type": "code",
      "metadata": {
        "scrolled": true,
        "id": "_TbxAagVUkPg",
        "colab_type": "code",
        "colab": {},
        "outputId": "dd999828-845f-4ed9-f2e7-10a4208b1948"
      },
      "source": [
        "a[1:-1]"
      ],
      "execution_count": null,
      "outputs": [
        {
          "output_type": "execute_result",
          "data": {
            "text/plain": [
              "array([2, 3])"
            ]
          },
          "metadata": {
            "tags": []
          },
          "execution_count": 8
        }
      ]
    },
    {
      "cell_type": "code",
      "metadata": {
        "id": "HyXHbBKzUkPl",
        "colab_type": "code",
        "colab": {},
        "outputId": "79502e69-1b5a-4d30-a70f-3fa54fe2e431"
      },
      "source": [
        "a[::2]"
      ],
      "execution_count": null,
      "outputs": [
        {
          "output_type": "execute_result",
          "data": {
            "text/plain": [
              "array([1, 3])"
            ]
          },
          "metadata": {
            "tags": []
          },
          "execution_count": 9
        }
      ]
    },
    {
      "cell_type": "code",
      "metadata": {
        "id": "jMLegW9pUkPp",
        "colab_type": "code",
        "colab": {},
        "outputId": "a2bc780e-972a-49f3-fbdc-99acb47c9b0f"
      },
      "source": [
        "b"
      ],
      "execution_count": null,
      "outputs": [
        {
          "output_type": "execute_result",
          "data": {
            "text/plain": [
              "array([0. , 0.5, 1. , 1.5, 2. ])"
            ]
          },
          "metadata": {
            "tags": []
          },
          "execution_count": 10
        }
      ]
    },
    {
      "cell_type": "code",
      "metadata": {
        "scrolled": true,
        "id": "5T09-xAOUkPt",
        "colab_type": "code",
        "colab": {},
        "outputId": "e5234303-a366-47ed-a1b3-c8743111cc0d"
      },
      "source": [
        "b[0], b[2], b[-1]"
      ],
      "execution_count": null,
      "outputs": [
        {
          "output_type": "execute_result",
          "data": {
            "text/plain": [
              "(0.0, 1.0, 2.0)"
            ]
          },
          "metadata": {
            "tags": []
          },
          "execution_count": 11
        }
      ]
    },
    {
      "cell_type": "code",
      "metadata": {
        "id": "MkUoaVpBUkPx",
        "colab_type": "code",
        "colab": {},
        "outputId": "f056b8e1-fd51-4e04-9ef4-18edb9a1283f"
      },
      "source": [
        "b[[0, 2, -1]]"
      ],
      "execution_count": null,
      "outputs": [
        {
          "output_type": "execute_result",
          "data": {
            "text/plain": [
              "array([0., 1., 2.])"
            ]
          },
          "metadata": {
            "tags": []
          },
          "execution_count": 12
        }
      ]
    },
    {
      "cell_type": "markdown",
      "metadata": {
        "id": "Is8_qg_JUkP2",
        "colab_type": "text"
      },
      "source": [
        "![green-divider](https://user-images.githubusercontent.com/7065401/52071924-c003ad80-2562-11e9-8297-1c6595f8a7ff.png)\n",
        "\n",
        "## Array Types"
      ]
    },
    {
      "cell_type": "code",
      "metadata": {
        "id": "lhkSmdT2UkP2",
        "colab_type": "code",
        "colab": {},
        "outputId": "e793d7c5-adbf-48ca-af0f-8f394c5a594a"
      },
      "source": [
        "a"
      ],
      "execution_count": null,
      "outputs": [
        {
          "output_type": "execute_result",
          "data": {
            "text/plain": [
              "array([1, 2, 3, 4])"
            ]
          },
          "metadata": {
            "tags": []
          },
          "execution_count": 13
        }
      ]
    },
    {
      "cell_type": "code",
      "metadata": {
        "id": "DGO0t5eQUkP7",
        "colab_type": "code",
        "colab": {},
        "outputId": "1f63dfeb-fbb8-42e8-f980-1f2c3559a3ad"
      },
      "source": [
        "a.dtype"
      ],
      "execution_count": null,
      "outputs": [
        {
          "output_type": "execute_result",
          "data": {
            "text/plain": [
              "dtype('int64')"
            ]
          },
          "metadata": {
            "tags": []
          },
          "execution_count": 14
        }
      ]
    },
    {
      "cell_type": "code",
      "metadata": {
        "id": "bHqmCkKjUkP_",
        "colab_type": "code",
        "colab": {},
        "outputId": "0c7bfbef-a80d-4423-bf35-32680d3114e7"
      },
      "source": [
        "b"
      ],
      "execution_count": null,
      "outputs": [
        {
          "output_type": "execute_result",
          "data": {
            "text/plain": [
              "array([0. , 0.5, 1. , 1.5, 2. ])"
            ]
          },
          "metadata": {
            "tags": []
          },
          "execution_count": 15
        }
      ]
    },
    {
      "cell_type": "code",
      "metadata": {
        "id": "z-p7l-u3UkQD",
        "colab_type": "code",
        "colab": {},
        "outputId": "f9301fd5-0f33-4340-f193-8f81a45b08df"
      },
      "source": [
        "b.dtype"
      ],
      "execution_count": null,
      "outputs": [
        {
          "output_type": "execute_result",
          "data": {
            "text/plain": [
              "dtype('float64')"
            ]
          },
          "metadata": {
            "tags": []
          },
          "execution_count": 16
        }
      ]
    },
    {
      "cell_type": "code",
      "metadata": {
        "scrolled": true,
        "id": "qv1ldccMUkQI",
        "colab_type": "code",
        "colab": {},
        "outputId": "64963217-464b-4323-a876-4e166522332f"
      },
      "source": [
        "np.array([1, 2, 3, 4], dtype=np.float)"
      ],
      "execution_count": null,
      "outputs": [
        {
          "output_type": "execute_result",
          "data": {
            "text/plain": [
              "array([1., 2., 3., 4.])"
            ]
          },
          "metadata": {
            "tags": []
          },
          "execution_count": 17
        }
      ]
    },
    {
      "cell_type": "code",
      "metadata": {
        "scrolled": true,
        "id": "8Ue3RIayUkQM",
        "colab_type": "code",
        "colab": {},
        "outputId": "76d72027-f92f-404b-d28c-9cee5acc950e"
      },
      "source": [
        "np.array([1, 2, 3, 4], dtype=np.int8)"
      ],
      "execution_count": null,
      "outputs": [
        {
          "output_type": "execute_result",
          "data": {
            "text/plain": [
              "array([1, 2, 3, 4], dtype=int8)"
            ]
          },
          "metadata": {
            "tags": []
          },
          "execution_count": 18
        }
      ]
    },
    {
      "cell_type": "code",
      "metadata": {
        "id": "MTJ4aKBBUkQQ",
        "colab_type": "code",
        "colab": {}
      },
      "source": [
        "c = np.array(['a', 'b', 'c'])"
      ],
      "execution_count": null,
      "outputs": []
    },
    {
      "cell_type": "code",
      "metadata": {
        "id": "04_SGbqJUkQU",
        "colab_type": "code",
        "colab": {},
        "outputId": "cad9b1b2-7bc3-4946-c7ed-0c82f2145619"
      },
      "source": [
        "c.dtype"
      ],
      "execution_count": null,
      "outputs": [
        {
          "output_type": "execute_result",
          "data": {
            "text/plain": [
              "dtype('<U1')"
            ]
          },
          "metadata": {
            "tags": []
          },
          "execution_count": 20
        }
      ]
    },
    {
      "cell_type": "code",
      "metadata": {
        "id": "AgJfX4usUkQY",
        "colab_type": "code",
        "colab": {}
      },
      "source": [
        "d = np.array([{'a': 1}, sys])"
      ],
      "execution_count": null,
      "outputs": []
    },
    {
      "cell_type": "code",
      "metadata": {
        "id": "EMG6gOqIUkQc",
        "colab_type": "code",
        "colab": {},
        "outputId": "94c2c4d9-5a95-4fde-fb77-c00ae2817f5e"
      },
      "source": [
        "d.dtype"
      ],
      "execution_count": null,
      "outputs": [
        {
          "output_type": "execute_result",
          "data": {
            "text/plain": [
              "dtype('O')"
            ]
          },
          "metadata": {
            "tags": []
          },
          "execution_count": 22
        }
      ]
    },
    {
      "cell_type": "markdown",
      "metadata": {
        "id": "6YS-Ec1dUkQg",
        "colab_type": "text"
      },
      "source": [
        "![green-divider](https://user-images.githubusercontent.com/7065401/52071924-c003ad80-2562-11e9-8297-1c6595f8a7ff.png)\n",
        "\n",
        "## Dimensions and shapes"
      ]
    },
    {
      "cell_type": "code",
      "metadata": {
        "id": "zoWniWQYUkQh",
        "colab_type": "code",
        "colab": {}
      },
      "source": [
        "A = np.array([\n",
        "    [1, 2, 3],\n",
        "    [4, 5, 6]\n",
        "])"
      ],
      "execution_count": null,
      "outputs": []
    },
    {
      "cell_type": "code",
      "metadata": {
        "id": "GQHzz6t-UkQl",
        "colab_type": "code",
        "colab": {},
        "outputId": "7e56c741-5bbb-4ddd-8a4c-e1404a04be05"
      },
      "source": [
        "A.shape"
      ],
      "execution_count": null,
      "outputs": [
        {
          "output_type": "execute_result",
          "data": {
            "text/plain": [
              "(2, 3)"
            ]
          },
          "metadata": {
            "tags": []
          },
          "execution_count": 24
        }
      ]
    },
    {
      "cell_type": "code",
      "metadata": {
        "id": "J0yEcXVAUkQr",
        "colab_type": "code",
        "colab": {},
        "outputId": "c89b2a8a-6bfc-49a0-d7df-45782561fcdc"
      },
      "source": [
        "A.ndim"
      ],
      "execution_count": null,
      "outputs": [
        {
          "output_type": "execute_result",
          "data": {
            "text/plain": [
              "2"
            ]
          },
          "metadata": {
            "tags": []
          },
          "execution_count": 25
        }
      ]
    },
    {
      "cell_type": "code",
      "metadata": {
        "id": "_vwd87I8UkQv",
        "colab_type": "code",
        "colab": {},
        "outputId": "69ccb1a3-2ef9-47a0-fb47-a438ba5a19f6"
      },
      "source": [
        "A.size"
      ],
      "execution_count": null,
      "outputs": [
        {
          "output_type": "execute_result",
          "data": {
            "text/plain": [
              "6"
            ]
          },
          "metadata": {
            "tags": []
          },
          "execution_count": 26
        }
      ]
    },
    {
      "cell_type": "code",
      "metadata": {
        "id": "USUF4587UkQ0",
        "colab_type": "code",
        "colab": {}
      },
      "source": [
        "B = np.array([\n",
        "    [\n",
        "        [12, 11, 10],\n",
        "        [9, 8, 7],\n",
        "    ],\n",
        "    [\n",
        "        [6, 5, 4],\n",
        "        [3, 2, 1]\n",
        "    ]\n",
        "])"
      ],
      "execution_count": null,
      "outputs": []
    },
    {
      "cell_type": "code",
      "metadata": {
        "id": "QoxLmPu2UkQ6",
        "colab_type": "code",
        "colab": {},
        "outputId": "b2dba743-9e7c-4779-bc9b-1aa83952c19b"
      },
      "source": [
        "B"
      ],
      "execution_count": null,
      "outputs": [
        {
          "output_type": "execute_result",
          "data": {
            "text/plain": [
              "array([[[12, 11, 10],\n",
              "        [ 9,  8,  7]],\n",
              "\n",
              "       [[ 6,  5,  4],\n",
              "        [ 3,  2,  1]]])"
            ]
          },
          "metadata": {
            "tags": []
          },
          "execution_count": 28
        }
      ]
    },
    {
      "cell_type": "code",
      "metadata": {
        "id": "UMGaM6bsUkQ-",
        "colab_type": "code",
        "colab": {},
        "outputId": "6db8709f-8b7a-42c2-9801-0d070b664662"
      },
      "source": [
        "B.shape"
      ],
      "execution_count": null,
      "outputs": [
        {
          "output_type": "execute_result",
          "data": {
            "text/plain": [
              "(2, 2, 3)"
            ]
          },
          "metadata": {
            "tags": []
          },
          "execution_count": 29
        }
      ]
    },
    {
      "cell_type": "code",
      "metadata": {
        "id": "EFdGrTwNUkRB",
        "colab_type": "code",
        "colab": {},
        "outputId": "813e3d6e-5e82-4c7f-8626-072da882fe0d"
      },
      "source": [
        "B.ndim"
      ],
      "execution_count": null,
      "outputs": [
        {
          "output_type": "execute_result",
          "data": {
            "text/plain": [
              "3"
            ]
          },
          "metadata": {
            "tags": []
          },
          "execution_count": 30
        }
      ]
    },
    {
      "cell_type": "code",
      "metadata": {
        "id": "5f2-S3cjUkRG",
        "colab_type": "code",
        "colab": {},
        "outputId": "23068502-ba60-4157-fd12-97c60ddaa3d0"
      },
      "source": [
        "B.size"
      ],
      "execution_count": null,
      "outputs": [
        {
          "output_type": "execute_result",
          "data": {
            "text/plain": [
              "12"
            ]
          },
          "metadata": {
            "tags": []
          },
          "execution_count": 31
        }
      ]
    },
    {
      "cell_type": "markdown",
      "metadata": {
        "id": "cfmIdW1QUkRL",
        "colab_type": "text"
      },
      "source": [
        "If the shape isn't consistent, it'll just fall back to regular Python objects:"
      ]
    },
    {
      "cell_type": "code",
      "metadata": {
        "id": "CwUmm2xUUkRL",
        "colab_type": "code",
        "colab": {}
      },
      "source": [
        "C = np.array([\n",
        "    [\n",
        "        [12, 11, 10],\n",
        "        [9, 8, 7],\n",
        "    ],\n",
        "    [\n",
        "        [6, 5, 4]\n",
        "    ]\n",
        "])"
      ],
      "execution_count": null,
      "outputs": []
    },
    {
      "cell_type": "code",
      "metadata": {
        "id": "ml7Ku0YsUkRR",
        "colab_type": "code",
        "colab": {},
        "outputId": "d0631ec4-6cc8-46e2-f63d-1d7c367b554c"
      },
      "source": [
        "C.dtype"
      ],
      "execution_count": null,
      "outputs": [
        {
          "output_type": "execute_result",
          "data": {
            "text/plain": [
              "dtype('O')"
            ]
          },
          "metadata": {
            "tags": []
          },
          "execution_count": 33
        }
      ]
    },
    {
      "cell_type": "code",
      "metadata": {
        "id": "_Q4kIRrXUkRW",
        "colab_type": "code",
        "colab": {},
        "outputId": "9e2544dd-8125-4a19-f1bb-fb5fb2a77df8"
      },
      "source": [
        "C.shape"
      ],
      "execution_count": null,
      "outputs": [
        {
          "output_type": "execute_result",
          "data": {
            "text/plain": [
              "(2,)"
            ]
          },
          "metadata": {
            "tags": []
          },
          "execution_count": 34
        }
      ]
    },
    {
      "cell_type": "code",
      "metadata": {
        "id": "PlZWkYNMUkRa",
        "colab_type": "code",
        "colab": {},
        "outputId": "38f080b8-486a-4941-9a35-711061d468cd"
      },
      "source": [
        "C.size"
      ],
      "execution_count": null,
      "outputs": [
        {
          "output_type": "execute_result",
          "data": {
            "text/plain": [
              "2"
            ]
          },
          "metadata": {
            "tags": []
          },
          "execution_count": 35
        }
      ]
    },
    {
      "cell_type": "code",
      "metadata": {
        "id": "AYyqoNQBUkRe",
        "colab_type": "code",
        "colab": {}
      },
      "source": [
        "type(C[0])"
      ],
      "execution_count": null,
      "outputs": []
    },
    {
      "cell_type": "markdown",
      "metadata": {
        "id": "LFvuf5XfUkRk",
        "colab_type": "text"
      },
      "source": [
        "![green-divider](https://user-images.githubusercontent.com/7065401/52071924-c003ad80-2562-11e9-8297-1c6595f8a7ff.png)\n",
        "\n",
        "## Indexing and Slicing of Matrices"
      ]
    },
    {
      "cell_type": "code",
      "metadata": {
        "id": "43by-46-UkRl",
        "colab_type": "code",
        "colab": {}
      },
      "source": [
        "# Square matrix\n",
        "A = np.array([\n",
        "#.   0. 1. 2\n",
        "    [1, 2, 3], # 0\n",
        "    [4, 5, 6], # 1\n",
        "    [7, 8, 9]  # 2\n",
        "])"
      ],
      "execution_count": null,
      "outputs": []
    },
    {
      "cell_type": "code",
      "metadata": {
        "id": "mPdZcdPzUkRp",
        "colab_type": "code",
        "colab": {},
        "outputId": "59358a92-7397-4ee6-aab3-898f7d725e2c"
      },
      "source": [
        "A[1]"
      ],
      "execution_count": null,
      "outputs": [
        {
          "output_type": "execute_result",
          "data": {
            "text/plain": [
              "array([4, 5, 6])"
            ]
          },
          "metadata": {
            "tags": []
          },
          "execution_count": 37
        }
      ]
    },
    {
      "cell_type": "code",
      "metadata": {
        "id": "SNwxXmP1UkRt",
        "colab_type": "code",
        "colab": {},
        "outputId": "c293c545-0fdb-43f5-a479-06301d8c42aa"
      },
      "source": [
        "A[1][0]"
      ],
      "execution_count": null,
      "outputs": [
        {
          "output_type": "execute_result",
          "data": {
            "text/plain": [
              "4"
            ]
          },
          "metadata": {
            "tags": []
          },
          "execution_count": 38
        }
      ]
    },
    {
      "cell_type": "code",
      "metadata": {
        "id": "9jnr8Sz_UkRx",
        "colab_type": "code",
        "colab": {}
      },
      "source": [
        "# A[d1, d2, d3, d4]"
      ],
      "execution_count": null,
      "outputs": []
    },
    {
      "cell_type": "code",
      "metadata": {
        "id": "e2kYLNSoUkR4",
        "colab_type": "code",
        "colab": {},
        "outputId": "cbd725fe-d411-43d7-b9f2-423f8c2033c4"
      },
      "source": [
        "A[1, 0]"
      ],
      "execution_count": null,
      "outputs": [
        {
          "output_type": "execute_result",
          "data": {
            "text/plain": [
              "4"
            ]
          },
          "metadata": {
            "tags": []
          },
          "execution_count": 39
        }
      ]
    },
    {
      "cell_type": "code",
      "metadata": {
        "scrolled": true,
        "id": "f_N27J69UkR8",
        "colab_type": "code",
        "colab": {},
        "outputId": "ea9f20be-8fb1-40f3-ffd0-4b8f2a4d0e1d"
      },
      "source": [
        "A[0:2]"
      ],
      "execution_count": null,
      "outputs": [
        {
          "output_type": "execute_result",
          "data": {
            "text/plain": [
              "array([[1, 2, 3],\n",
              "       [4, 5, 6]])"
            ]
          },
          "metadata": {
            "tags": []
          },
          "execution_count": 40
        }
      ]
    },
    {
      "cell_type": "code",
      "metadata": {
        "id": "vpskjKlIUkSC",
        "colab_type": "code",
        "colab": {},
        "outputId": "3f7775c6-a0cd-4b4c-c1b6-4b5026324011"
      },
      "source": [
        "A[:, :2]"
      ],
      "execution_count": null,
      "outputs": [
        {
          "output_type": "execute_result",
          "data": {
            "text/plain": [
              "array([[1, 2],\n",
              "       [4, 5],\n",
              "       [7, 8]])"
            ]
          },
          "metadata": {
            "tags": []
          },
          "execution_count": 41
        }
      ]
    },
    {
      "cell_type": "code",
      "metadata": {
        "id": "uqNZY_D0UkSF",
        "colab_type": "code",
        "colab": {},
        "outputId": "50de8455-ca9c-4164-d7b0-b157da791db0"
      },
      "source": [
        "A[:2, :2]"
      ],
      "execution_count": null,
      "outputs": [
        {
          "output_type": "execute_result",
          "data": {
            "text/plain": [
              "array([[1, 2],\n",
              "       [4, 5]])"
            ]
          },
          "metadata": {
            "tags": []
          },
          "execution_count": 42
        }
      ]
    },
    {
      "cell_type": "code",
      "metadata": {
        "id": "ut0vtpKcUkSK",
        "colab_type": "code",
        "colab": {},
        "outputId": "a91a5a88-8c3c-4f1a-ccb2-334c43c22802"
      },
      "source": [
        "A[:2, 2:]"
      ],
      "execution_count": null,
      "outputs": [
        {
          "output_type": "execute_result",
          "data": {
            "text/plain": [
              "array([[3],\n",
              "       [6]])"
            ]
          },
          "metadata": {
            "tags": []
          },
          "execution_count": 43
        }
      ]
    },
    {
      "cell_type": "code",
      "metadata": {
        "id": "Ry3MMHu8UkSO",
        "colab_type": "code",
        "colab": {},
        "outputId": "02fca6ed-bfc5-47da-b16d-f9d0290f300d"
      },
      "source": [
        "A"
      ],
      "execution_count": null,
      "outputs": [
        {
          "output_type": "execute_result",
          "data": {
            "text/plain": [
              "array([[1, 2, 3],\n",
              "       [4, 5, 6],\n",
              "       [7, 8, 9]])"
            ]
          },
          "metadata": {
            "tags": []
          },
          "execution_count": 44
        }
      ]
    },
    {
      "cell_type": "code",
      "metadata": {
        "id": "UVbIsQPtUkSS",
        "colab_type": "code",
        "colab": {}
      },
      "source": [
        "A[1] = np.array([10, 10, 10])"
      ],
      "execution_count": null,
      "outputs": []
    },
    {
      "cell_type": "code",
      "metadata": {
        "id": "5w4KooFYUkSV",
        "colab_type": "code",
        "colab": {},
        "outputId": "b3b74e33-b500-4fca-ce5d-fbc26efa9143"
      },
      "source": [
        "A"
      ],
      "execution_count": null,
      "outputs": [
        {
          "output_type": "execute_result",
          "data": {
            "text/plain": [
              "array([[ 1,  2,  3],\n",
              "       [10, 10, 10],\n",
              "       [ 7,  8,  9]])"
            ]
          },
          "metadata": {
            "tags": []
          },
          "execution_count": 46
        }
      ]
    },
    {
      "cell_type": "code",
      "metadata": {
        "id": "qJn_RIN3UkSY",
        "colab_type": "code",
        "colab": {}
      },
      "source": [
        "A[2] = 99"
      ],
      "execution_count": null,
      "outputs": []
    },
    {
      "cell_type": "code",
      "metadata": {
        "id": "URmyjXYqUkSd",
        "colab_type": "code",
        "colab": {},
        "outputId": "d40f87ef-5407-4cc9-8c9d-18928743b80d"
      },
      "source": [
        "A"
      ],
      "execution_count": null,
      "outputs": [
        {
          "output_type": "execute_result",
          "data": {
            "text/plain": [
              "array([[ 1,  2,  3],\n",
              "       [10, 10, 10],\n",
              "       [99, 99, 99]])"
            ]
          },
          "metadata": {
            "tags": []
          },
          "execution_count": 48
        }
      ]
    },
    {
      "cell_type": "markdown",
      "metadata": {
        "id": "7IejpxbFUkSk",
        "colab_type": "text"
      },
      "source": [
        "![green-divider](https://user-images.githubusercontent.com/7065401/52071924-c003ad80-2562-11e9-8297-1c6595f8a7ff.png)\n",
        "\n",
        "## Summary statistics"
      ]
    },
    {
      "cell_type": "code",
      "metadata": {
        "id": "MI3DYG8VUkSm",
        "colab_type": "code",
        "colab": {}
      },
      "source": [
        "a = np.array([1, 2, 3, 4])"
      ],
      "execution_count": null,
      "outputs": []
    },
    {
      "cell_type": "code",
      "metadata": {
        "id": "g_lEDJjHUkSq",
        "colab_type": "code",
        "colab": {},
        "outputId": "86edc930-fbf4-43cb-f6a9-8e30d693c1b6"
      },
      "source": [
        "a.sum()"
      ],
      "execution_count": null,
      "outputs": [
        {
          "output_type": "execute_result",
          "data": {
            "text/plain": [
              "10"
            ]
          },
          "metadata": {
            "tags": []
          },
          "execution_count": 50
        }
      ]
    },
    {
      "cell_type": "code",
      "metadata": {
        "id": "DcrzLl8HUkSt",
        "colab_type": "code",
        "colab": {},
        "outputId": "5f3ef3fc-b6eb-4000-b18e-02b7d21fc2bc"
      },
      "source": [
        "a.mean()"
      ],
      "execution_count": null,
      "outputs": [
        {
          "output_type": "execute_result",
          "data": {
            "text/plain": [
              "2.5"
            ]
          },
          "metadata": {
            "tags": []
          },
          "execution_count": 51
        }
      ]
    },
    {
      "cell_type": "code",
      "metadata": {
        "id": "aTGELGW-UkSw",
        "colab_type": "code",
        "colab": {},
        "outputId": "8b7419c0-b203-47bd-b903-61aeb3100d59"
      },
      "source": [
        "a.std()"
      ],
      "execution_count": null,
      "outputs": [
        {
          "output_type": "execute_result",
          "data": {
            "text/plain": [
              "1.118033988749895"
            ]
          },
          "metadata": {
            "tags": []
          },
          "execution_count": 52
        }
      ]
    },
    {
      "cell_type": "code",
      "metadata": {
        "id": "_QchUfLKUkSz",
        "colab_type": "code",
        "colab": {},
        "outputId": "f4f1780b-f2ca-49f3-8a27-2f06e49b2cfe"
      },
      "source": [
        "a.var()"
      ],
      "execution_count": null,
      "outputs": [
        {
          "output_type": "execute_result",
          "data": {
            "text/plain": [
              "1.25"
            ]
          },
          "metadata": {
            "tags": []
          },
          "execution_count": 53
        }
      ]
    },
    {
      "cell_type": "code",
      "metadata": {
        "id": "W_QQ1RiYUkS1",
        "colab_type": "code",
        "colab": {}
      },
      "source": [
        "A = np.array([\n",
        "    [1, 2, 3],\n",
        "    [4, 5, 6],\n",
        "    [7, 8, 9]\n",
        "])"
      ],
      "execution_count": null,
      "outputs": []
    },
    {
      "cell_type": "code",
      "metadata": {
        "id": "5J_AjAewUkS4",
        "colab_type": "code",
        "colab": {},
        "outputId": "1265b7ed-8632-460f-ad89-e19cd324c4a6"
      },
      "source": [
        "A.sum()"
      ],
      "execution_count": null,
      "outputs": [
        {
          "output_type": "execute_result",
          "data": {
            "text/plain": [
              "45"
            ]
          },
          "metadata": {
            "tags": []
          },
          "execution_count": 55
        }
      ]
    },
    {
      "cell_type": "code",
      "metadata": {
        "id": "07fWWylRUkS7",
        "colab_type": "code",
        "colab": {},
        "outputId": "9399accc-c43a-4ae0-c0ac-9bff74e1326c"
      },
      "source": [
        "A.mean()"
      ],
      "execution_count": null,
      "outputs": [
        {
          "output_type": "execute_result",
          "data": {
            "text/plain": [
              "5.0"
            ]
          },
          "metadata": {
            "tags": []
          },
          "execution_count": 56
        }
      ]
    },
    {
      "cell_type": "code",
      "metadata": {
        "id": "TIhGWW6vUkS_",
        "colab_type": "code",
        "colab": {},
        "outputId": "377cc5d9-6ab6-426b-d2bb-ff0fb7b00e16"
      },
      "source": [
        "A.std()"
      ],
      "execution_count": null,
      "outputs": [
        {
          "output_type": "execute_result",
          "data": {
            "text/plain": [
              "2.581988897471611"
            ]
          },
          "metadata": {
            "tags": []
          },
          "execution_count": 57
        }
      ]
    },
    {
      "cell_type": "code",
      "metadata": {
        "id": "PhRxTY0iUkTB",
        "colab_type": "code",
        "colab": {},
        "outputId": "068ad122-97c1-45e1-b403-106893f1eecb"
      },
      "source": [
        "A.sum(axis=0)"
      ],
      "execution_count": null,
      "outputs": [
        {
          "output_type": "execute_result",
          "data": {
            "text/plain": [
              "array([12, 15, 18])"
            ]
          },
          "metadata": {
            "tags": []
          },
          "execution_count": 58
        }
      ]
    },
    {
      "cell_type": "code",
      "metadata": {
        "id": "xbQXEcM5UkTE",
        "colab_type": "code",
        "colab": {},
        "outputId": "86433d65-69c1-474d-c487-e3d332e95f99"
      },
      "source": [
        "A.sum(axis=1)"
      ],
      "execution_count": null,
      "outputs": [
        {
          "output_type": "execute_result",
          "data": {
            "text/plain": [
              "array([ 6, 15, 24])"
            ]
          },
          "metadata": {
            "tags": []
          },
          "execution_count": 59
        }
      ]
    },
    {
      "cell_type": "code",
      "metadata": {
        "scrolled": true,
        "id": "3MTqmImMUkTH",
        "colab_type": "code",
        "colab": {},
        "outputId": "85d4e176-004a-4e1a-a761-68a1fd8746e3"
      },
      "source": [
        "A.mean(axis=0)"
      ],
      "execution_count": null,
      "outputs": [
        {
          "output_type": "execute_result",
          "data": {
            "text/plain": [
              "array([4., 5., 6.])"
            ]
          },
          "metadata": {
            "tags": []
          },
          "execution_count": 60
        }
      ]
    },
    {
      "cell_type": "code",
      "metadata": {
        "id": "VRayRFN4UkTK",
        "colab_type": "code",
        "colab": {},
        "outputId": "0a788368-b837-4ee5-cb3b-43694ebd4863"
      },
      "source": [
        "A.mean(axis=1)"
      ],
      "execution_count": null,
      "outputs": [
        {
          "output_type": "execute_result",
          "data": {
            "text/plain": [
              "array([2., 5., 8.])"
            ]
          },
          "metadata": {
            "tags": []
          },
          "execution_count": 61
        }
      ]
    },
    {
      "cell_type": "code",
      "metadata": {
        "id": "RIQiHO79UkTN",
        "colab_type": "code",
        "colab": {},
        "outputId": "1fd7726a-89e8-4b51-d158-86484a1261f5"
      },
      "source": [
        "A.std(axis=0)"
      ],
      "execution_count": null,
      "outputs": [
        {
          "output_type": "execute_result",
          "data": {
            "text/plain": [
              "array([2.44948974, 2.44948974, 2.44948974])"
            ]
          },
          "metadata": {
            "tags": []
          },
          "execution_count": 62
        }
      ]
    },
    {
      "cell_type": "code",
      "metadata": {
        "scrolled": true,
        "id": "sw24ay8KUkTQ",
        "colab_type": "code",
        "colab": {},
        "outputId": "20d72411-38b3-4b0e-bfb5-d2947a1535c9"
      },
      "source": [
        "A.std(axis=1)"
      ],
      "execution_count": null,
      "outputs": [
        {
          "output_type": "execute_result",
          "data": {
            "text/plain": [
              "array([0.81649658, 0.81649658, 0.81649658])"
            ]
          },
          "metadata": {
            "tags": []
          },
          "execution_count": 63
        }
      ]
    },
    {
      "cell_type": "markdown",
      "metadata": {
        "id": "ueE_GE_oUkTS",
        "colab_type": "text"
      },
      "source": [
        "And [many more](https://docs.scipy.org/doc/numpy-1.13.0/reference/arrays.ndarray.html#array-methods)..."
      ]
    },
    {
      "cell_type": "markdown",
      "metadata": {
        "id": "6RiNHm-ZUkTS",
        "colab_type": "text"
      },
      "source": [
        "![green-divider](https://user-images.githubusercontent.com/7065401/52071924-c003ad80-2562-11e9-8297-1c6595f8a7ff.png)\n",
        "\n",
        "## Broadcasting and Vectorized operations"
      ]
    },
    {
      "cell_type": "code",
      "metadata": {
        "id": "kx4drRlFUkTT",
        "colab_type": "code",
        "colab": {}
      },
      "source": [
        "a = np.arange(4)"
      ],
      "execution_count": null,
      "outputs": []
    },
    {
      "cell_type": "code",
      "metadata": {
        "id": "BSE_LIN0UkTV",
        "colab_type": "code",
        "colab": {}
      },
      "source": [
        "a"
      ],
      "execution_count": null,
      "outputs": []
    },
    {
      "cell_type": "code",
      "metadata": {
        "id": "lgmtYDBeUkTY",
        "colab_type": "code",
        "colab": {}
      },
      "source": [
        "a + 10"
      ],
      "execution_count": null,
      "outputs": []
    },
    {
      "cell_type": "code",
      "metadata": {
        "id": "RLCrVqQtUkTc",
        "colab_type": "code",
        "colab": {}
      },
      "source": [
        "a * 10"
      ],
      "execution_count": null,
      "outputs": []
    },
    {
      "cell_type": "code",
      "metadata": {
        "id": "sQjyS0LvUkTf",
        "colab_type": "code",
        "colab": {}
      },
      "source": [
        "a"
      ],
      "execution_count": null,
      "outputs": []
    },
    {
      "cell_type": "code",
      "metadata": {
        "id": "8236OUwfUkTj",
        "colab_type": "code",
        "colab": {}
      },
      "source": [
        "a += 100"
      ],
      "execution_count": null,
      "outputs": []
    },
    {
      "cell_type": "code",
      "metadata": {
        "id": "CIFs0nG9UkTl",
        "colab_type": "code",
        "colab": {}
      },
      "source": [
        "a"
      ],
      "execution_count": null,
      "outputs": []
    },
    {
      "cell_type": "code",
      "metadata": {
        "id": "cvyTXELMUkTn",
        "colab_type": "code",
        "colab": {}
      },
      "source": [
        "l = [0, 1, 2, 3]"
      ],
      "execution_count": null,
      "outputs": []
    },
    {
      "cell_type": "code",
      "metadata": {
        "id": "BfLDL33OUkTq",
        "colab_type": "code",
        "colab": {}
      },
      "source": [
        "[i * 10 for i in l]"
      ],
      "execution_count": null,
      "outputs": []
    },
    {
      "cell_type": "code",
      "metadata": {
        "id": "CaeQrlA7UkTu",
        "colab_type": "code",
        "colab": {}
      },
      "source": [
        "a = np.arange(4)"
      ],
      "execution_count": null,
      "outputs": []
    },
    {
      "cell_type": "code",
      "metadata": {
        "id": "mG2ZmanOUkTy",
        "colab_type": "code",
        "colab": {}
      },
      "source": [
        "a"
      ],
      "execution_count": null,
      "outputs": []
    },
    {
      "cell_type": "code",
      "metadata": {
        "id": "8U2HULI0UkT1",
        "colab_type": "code",
        "colab": {}
      },
      "source": [
        "b = np.array([10, 10, 10, 10])"
      ],
      "execution_count": null,
      "outputs": []
    },
    {
      "cell_type": "code",
      "metadata": {
        "id": "B_NHRE8dUkT5",
        "colab_type": "code",
        "colab": {}
      },
      "source": [
        "a + b"
      ],
      "execution_count": null,
      "outputs": []
    },
    {
      "cell_type": "code",
      "metadata": {
        "id": "t9j2Xa0VUkT7",
        "colab_type": "code",
        "colab": {}
      },
      "source": [
        "a * b"
      ],
      "execution_count": null,
      "outputs": []
    },
    {
      "cell_type": "markdown",
      "metadata": {
        "id": "9zXQMcClUkT9",
        "colab_type": "text"
      },
      "source": [
        "![green-divider](https://user-images.githubusercontent.com/7065401/52071924-c003ad80-2562-11e9-8297-1c6595f8a7ff.png)\n",
        "\n",
        "## Boolean arrays\n",
        "_(Also called masks)_"
      ]
    },
    {
      "cell_type": "code",
      "metadata": {
        "id": "Sks1vWByUkT9",
        "colab_type": "code",
        "colab": {}
      },
      "source": [
        "a = np.arange(4)"
      ],
      "execution_count": null,
      "outputs": []
    },
    {
      "cell_type": "code",
      "metadata": {
        "id": "ZyB9ogcZUkUB",
        "colab_type": "code",
        "colab": {}
      },
      "source": [
        "a"
      ],
      "execution_count": null,
      "outputs": []
    },
    {
      "cell_type": "code",
      "metadata": {
        "id": "wGCZS5G8UkUF",
        "colab_type": "code",
        "colab": {}
      },
      "source": [
        "a[[0, -1]]"
      ],
      "execution_count": null,
      "outputs": []
    },
    {
      "cell_type": "code",
      "metadata": {
        "id": "ONr7wlHJUkUI",
        "colab_type": "code",
        "colab": {}
      },
      "source": [
        "a[[True, False, False, True]]"
      ],
      "execution_count": null,
      "outputs": []
    },
    {
      "cell_type": "code",
      "metadata": {
        "id": "Cg8FJw92UkUM",
        "colab_type": "code",
        "colab": {}
      },
      "source": [
        "a >= 2"
      ],
      "execution_count": null,
      "outputs": []
    },
    {
      "cell_type": "code",
      "metadata": {
        "id": "lc5ny8t2UkUO",
        "colab_type": "code",
        "colab": {}
      },
      "source": [
        "a[a >= 2]"
      ],
      "execution_count": null,
      "outputs": []
    },
    {
      "cell_type": "code",
      "metadata": {
        "id": "iol9j7OWUkUQ",
        "colab_type": "code",
        "colab": {}
      },
      "source": [
        "a.mean()"
      ],
      "execution_count": null,
      "outputs": []
    },
    {
      "cell_type": "code",
      "metadata": {
        "scrolled": true,
        "id": "m6aWGBZWUkUS",
        "colab_type": "code",
        "colab": {}
      },
      "source": [
        "a[a > a.mean()]"
      ],
      "execution_count": null,
      "outputs": []
    },
    {
      "cell_type": "code",
      "metadata": {
        "id": "p0oD-6CjUkUU",
        "colab_type": "code",
        "colab": {}
      },
      "source": [
        "a[~(a > a.mean())]"
      ],
      "execution_count": null,
      "outputs": []
    },
    {
      "cell_type": "code",
      "metadata": {
        "id": "7zAZp4r4UkUX",
        "colab_type": "code",
        "colab": {}
      },
      "source": [
        "a[(a == 0) | (a == 1)]"
      ],
      "execution_count": null,
      "outputs": []
    },
    {
      "cell_type": "code",
      "metadata": {
        "id": "7Jn83W0MUkUZ",
        "colab_type": "code",
        "colab": {}
      },
      "source": [
        "a[(a <= 2) & (a % 2 == 0)]"
      ],
      "execution_count": null,
      "outputs": []
    },
    {
      "cell_type": "code",
      "metadata": {
        "id": "Nrspf1FdUkUa",
        "colab_type": "code",
        "colab": {}
      },
      "source": [
        "A = np.random.randint(100, size=(3, 3))"
      ],
      "execution_count": null,
      "outputs": []
    },
    {
      "cell_type": "code",
      "metadata": {
        "id": "S-wFHCFUUkUd",
        "colab_type": "code",
        "colab": {}
      },
      "source": [
        "A"
      ],
      "execution_count": null,
      "outputs": []
    },
    {
      "cell_type": "code",
      "metadata": {
        "id": "NXdWK-QlUkUf",
        "colab_type": "code",
        "colab": {}
      },
      "source": [
        "A[np.array([\n",
        "    [True, False, True],\n",
        "    [False, True, False],\n",
        "    [True, False, True]\n",
        "])]"
      ],
      "execution_count": null,
      "outputs": []
    },
    {
      "cell_type": "code",
      "metadata": {
        "id": "QM-m3Iy6UkUh",
        "colab_type": "code",
        "colab": {}
      },
      "source": [
        "A > 30"
      ],
      "execution_count": null,
      "outputs": []
    },
    {
      "cell_type": "code",
      "metadata": {
        "id": "15VXmpYWUkUi",
        "colab_type": "code",
        "colab": {}
      },
      "source": [
        "A[A > 30]"
      ],
      "execution_count": null,
      "outputs": []
    },
    {
      "cell_type": "markdown",
      "metadata": {
        "id": "EJWJSEspUkUk",
        "colab_type": "text"
      },
      "source": [
        "![green-divider](https://user-images.githubusercontent.com/7065401/52071924-c003ad80-2562-11e9-8297-1c6595f8a7ff.png)\n",
        "\n",
        "## Linear Algebra"
      ]
    },
    {
      "cell_type": "code",
      "metadata": {
        "id": "4RT4oOoRUkUn",
        "colab_type": "code",
        "colab": {}
      },
      "source": [
        "A = np.array([\n",
        "    [1, 2, 3],\n",
        "    [4, 5, 6],\n",
        "    [7, 8, 9]\n",
        "])"
      ],
      "execution_count": null,
      "outputs": []
    },
    {
      "cell_type": "code",
      "metadata": {
        "id": "rysTJCwQUkUq",
        "colab_type": "code",
        "colab": {}
      },
      "source": [
        "B = np.array([\n",
        "    [6, 5],\n",
        "    [4, 3],\n",
        "    [2, 1]\n",
        "])"
      ],
      "execution_count": null,
      "outputs": []
    },
    {
      "cell_type": "code",
      "metadata": {
        "id": "edZcvNBJUkUt",
        "colab_type": "code",
        "colab": {}
      },
      "source": [
        "A.dot(B)"
      ],
      "execution_count": null,
      "outputs": []
    },
    {
      "cell_type": "code",
      "metadata": {
        "id": "RxZHWa11UkUw",
        "colab_type": "code",
        "colab": {}
      },
      "source": [
        "A @ B"
      ],
      "execution_count": null,
      "outputs": []
    },
    {
      "cell_type": "code",
      "metadata": {
        "id": "2WV5d1oXUkUy",
        "colab_type": "code",
        "colab": {}
      },
      "source": [
        "B.T"
      ],
      "execution_count": null,
      "outputs": []
    },
    {
      "cell_type": "code",
      "metadata": {
        "id": "imf5QAKqUkU0",
        "colab_type": "code",
        "colab": {}
      },
      "source": [
        "A"
      ],
      "execution_count": null,
      "outputs": []
    },
    {
      "cell_type": "code",
      "metadata": {
        "scrolled": true,
        "id": "Kq3pijJMUkU2",
        "colab_type": "code",
        "colab": {}
      },
      "source": [
        "B.T @ A"
      ],
      "execution_count": null,
      "outputs": []
    },
    {
      "cell_type": "markdown",
      "metadata": {
        "id": "UWIMEk6IUkU4",
        "colab_type": "text"
      },
      "source": [
        "![green-divider](https://user-images.githubusercontent.com/7065401/52071924-c003ad80-2562-11e9-8297-1c6595f8a7ff.png)\n",
        "\n",
        "## Size of objects in Memory"
      ]
    },
    {
      "cell_type": "markdown",
      "metadata": {
        "id": "nZL4P6JaUkU5",
        "colab_type": "text"
      },
      "source": [
        "### Int, floats"
      ]
    },
    {
      "cell_type": "code",
      "metadata": {
        "id": "qObcU3gHUkU5",
        "colab_type": "code",
        "colab": {}
      },
      "source": [
        "# An integer in Python is > 24bytes\n",
        "sys.getsizeof(1)"
      ],
      "execution_count": null,
      "outputs": []
    },
    {
      "cell_type": "code",
      "metadata": {
        "scrolled": true,
        "id": "eDnniijkUkU8",
        "colab_type": "code",
        "colab": {}
      },
      "source": [
        "# Longs are even larger\n",
        "sys.getsizeof(10**100)"
      ],
      "execution_count": null,
      "outputs": []
    },
    {
      "cell_type": "code",
      "metadata": {
        "scrolled": true,
        "id": "cbc7tit4UkU-",
        "colab_type": "code",
        "colab": {}
      },
      "source": [
        "# Numpy size is much smaller\n",
        "np.dtype(int).itemsize"
      ],
      "execution_count": null,
      "outputs": []
    },
    {
      "cell_type": "code",
      "metadata": {
        "scrolled": true,
        "id": "wllgPOZoUkVD",
        "colab_type": "code",
        "colab": {}
      },
      "source": [
        "np.dtype(float).itemsize"
      ],
      "execution_count": null,
      "outputs": []
    },
    {
      "cell_type": "markdown",
      "metadata": {
        "id": "sqajpAmGUkVG",
        "colab_type": "text"
      },
      "source": [
        "### Lists are even larger"
      ]
    },
    {
      "cell_type": "code",
      "metadata": {
        "id": "eTKi_M6cUkVG",
        "colab_type": "code",
        "colab": {}
      },
      "source": [
        "# A one-element list\n",
        "sys.getsizeof([1])"
      ],
      "execution_count": null,
      "outputs": []
    },
    {
      "cell_type": "code",
      "metadata": {
        "scrolled": true,
        "id": "jzlIywg2UkVK",
        "colab_type": "code",
        "colab": {}
      },
      "source": [
        "# An array of one element in numpy\n",
        "np.array([1]).nbytes"
      ],
      "execution_count": null,
      "outputs": []
    },
    {
      "cell_type": "markdown",
      "metadata": {
        "id": "jKXWNBGrUkVN",
        "colab_type": "text"
      },
      "source": [
        "### And performance is also important"
      ]
    },
    {
      "cell_type": "code",
      "metadata": {
        "id": "9E_ePaF3UkVN",
        "colab_type": "code",
        "colab": {}
      },
      "source": [
        "l = list(range(1000))"
      ],
      "execution_count": null,
      "outputs": []
    },
    {
      "cell_type": "code",
      "metadata": {
        "id": "MRHHv6xiUkVP",
        "colab_type": "code",
        "colab": {}
      },
      "source": [
        "a = np.arange(1000)"
      ],
      "execution_count": null,
      "outputs": []
    },
    {
      "cell_type": "code",
      "metadata": {
        "scrolled": true,
        "id": "W0dFJC2rUkVT",
        "colab_type": "code",
        "colab": {}
      },
      "source": [
        "%time np.sum(a ** 2)"
      ],
      "execution_count": null,
      "outputs": []
    },
    {
      "cell_type": "code",
      "metadata": {
        "scrolled": true,
        "id": "tVQlO_6UUkVV",
        "colab_type": "code",
        "colab": {}
      },
      "source": [
        "%time sum([x ** 2 for x in l])"
      ],
      "execution_count": null,
      "outputs": []
    },
    {
      "cell_type": "markdown",
      "metadata": {
        "id": "au-YfsvpUkVW",
        "colab_type": "text"
      },
      "source": [
        "![green-divider](https://user-images.githubusercontent.com/7065401/52071924-c003ad80-2562-11e9-8297-1c6595f8a7ff.png)\n",
        "\n",
        "## Useful Numpy functions"
      ]
    },
    {
      "cell_type": "markdown",
      "metadata": {
        "id": "y4mCPiNZUkVX",
        "colab_type": "text"
      },
      "source": [
        "### `random` "
      ]
    },
    {
      "cell_type": "code",
      "metadata": {
        "id": "Gsh8hv5gUkVX",
        "colab_type": "code",
        "colab": {}
      },
      "source": [
        "np.random.random(size=2)"
      ],
      "execution_count": null,
      "outputs": []
    },
    {
      "cell_type": "code",
      "metadata": {
        "id": "u239PfHwUkVZ",
        "colab_type": "code",
        "colab": {}
      },
      "source": [
        "np.random.normal(size=2)"
      ],
      "execution_count": null,
      "outputs": []
    },
    {
      "cell_type": "code",
      "metadata": {
        "id": "eA8jXCvEUkVa",
        "colab_type": "code",
        "colab": {}
      },
      "source": [
        "np.random.rand(2, 4)"
      ],
      "execution_count": null,
      "outputs": []
    },
    {
      "cell_type": "markdown",
      "metadata": {
        "id": "YsztaX7rUkVc",
        "colab_type": "text"
      },
      "source": [
        "---\n",
        "### `arange`"
      ]
    },
    {
      "cell_type": "code",
      "metadata": {
        "id": "yUTtrDOmUkVc",
        "colab_type": "code",
        "colab": {}
      },
      "source": [
        "np.arange(10)"
      ],
      "execution_count": null,
      "outputs": []
    },
    {
      "cell_type": "code",
      "metadata": {
        "id": "PRT6zvEGUkVe",
        "colab_type": "code",
        "colab": {}
      },
      "source": [
        "np.arange(5, 10)"
      ],
      "execution_count": null,
      "outputs": []
    },
    {
      "cell_type": "code",
      "metadata": {
        "id": "RqWJcCX2UkVf",
        "colab_type": "code",
        "colab": {}
      },
      "source": [
        "np.arange(0, 1, .1)"
      ],
      "execution_count": null,
      "outputs": []
    },
    {
      "cell_type": "markdown",
      "metadata": {
        "id": "PJj6W4tyUkVh",
        "colab_type": "text"
      },
      "source": [
        "---\n",
        "### `reshape`"
      ]
    },
    {
      "cell_type": "code",
      "metadata": {
        "id": "nkIq5XnPUkVh",
        "colab_type": "code",
        "colab": {}
      },
      "source": [
        "np.arange(10).reshape(2, 5)"
      ],
      "execution_count": null,
      "outputs": []
    },
    {
      "cell_type": "code",
      "metadata": {
        "id": "JaYpePFPUkVj",
        "colab_type": "code",
        "colab": {}
      },
      "source": [
        "np.arange(10).reshape(5, 2)"
      ],
      "execution_count": null,
      "outputs": []
    },
    {
      "cell_type": "markdown",
      "metadata": {
        "id": "ouyXQFReUkVk",
        "colab_type": "text"
      },
      "source": [
        "---\n",
        "### `linspace`"
      ]
    },
    {
      "cell_type": "code",
      "metadata": {
        "id": "2WCDegoMUkVl",
        "colab_type": "code",
        "colab": {}
      },
      "source": [
        "np.linspace(0, 1, 5)"
      ],
      "execution_count": null,
      "outputs": []
    },
    {
      "cell_type": "code",
      "metadata": {
        "id": "4KumHfrRUkVm",
        "colab_type": "code",
        "colab": {}
      },
      "source": [
        "np.linspace(0, 1, 20)"
      ],
      "execution_count": null,
      "outputs": []
    },
    {
      "cell_type": "code",
      "metadata": {
        "scrolled": true,
        "id": "f3IMgtsjUkVo",
        "colab_type": "code",
        "colab": {}
      },
      "source": [
        "np.linspace(0, 1, 20, False)"
      ],
      "execution_count": null,
      "outputs": []
    },
    {
      "cell_type": "markdown",
      "metadata": {
        "id": "7BesB96TUkVp",
        "colab_type": "text"
      },
      "source": [
        "---\n",
        "### `zeros`, `ones`, `empty`"
      ]
    },
    {
      "cell_type": "code",
      "metadata": {
        "id": "r6QIoH59UkVq",
        "colab_type": "code",
        "colab": {}
      },
      "source": [
        "np.zeros(5)"
      ],
      "execution_count": null,
      "outputs": []
    },
    {
      "cell_type": "code",
      "metadata": {
        "scrolled": true,
        "id": "KpoYpBhNUkVr",
        "colab_type": "code",
        "colab": {}
      },
      "source": [
        "np.zeros((3, 3))"
      ],
      "execution_count": null,
      "outputs": []
    },
    {
      "cell_type": "code",
      "metadata": {
        "scrolled": true,
        "id": "Vd1QGR2JUkVt",
        "colab_type": "code",
        "colab": {}
      },
      "source": [
        "np.zeros((3, 3), dtype=np.int)"
      ],
      "execution_count": null,
      "outputs": []
    },
    {
      "cell_type": "code",
      "metadata": {
        "id": "RDnk7JwRUkVu",
        "colab_type": "code",
        "colab": {}
      },
      "source": [
        "np.ones(5)"
      ],
      "execution_count": null,
      "outputs": []
    },
    {
      "cell_type": "code",
      "metadata": {
        "id": "nkotQp5CUkVw",
        "colab_type": "code",
        "colab": {}
      },
      "source": [
        "np.ones((3, 3))"
      ],
      "execution_count": null,
      "outputs": []
    },
    {
      "cell_type": "code",
      "metadata": {
        "id": "nLMznY1kUkV0",
        "colab_type": "code",
        "colab": {}
      },
      "source": [
        "np.empty(5)"
      ],
      "execution_count": null,
      "outputs": []
    },
    {
      "cell_type": "code",
      "metadata": {
        "scrolled": true,
        "id": "u6h8eq40UkV1",
        "colab_type": "code",
        "colab": {}
      },
      "source": [
        "np.empty((2, 2))"
      ],
      "execution_count": null,
      "outputs": []
    },
    {
      "cell_type": "markdown",
      "metadata": {
        "id": "15gcPyOxUkV3",
        "colab_type": "text"
      },
      "source": [
        "---\n",
        "### `identity` and `eye`"
      ]
    },
    {
      "cell_type": "code",
      "metadata": {
        "id": "eTP6ubsiUkV4",
        "colab_type": "code",
        "colab": {}
      },
      "source": [
        "np.identity(3)"
      ],
      "execution_count": null,
      "outputs": []
    },
    {
      "cell_type": "code",
      "metadata": {
        "id": "qa4wkzMiUkV6",
        "colab_type": "code",
        "colab": {}
      },
      "source": [
        "np.eye(3, 3)"
      ],
      "execution_count": null,
      "outputs": []
    },
    {
      "cell_type": "code",
      "metadata": {
        "id": "EkVvDOicUkV7",
        "colab_type": "code",
        "colab": {}
      },
      "source": [
        "np.eye(8, 4)"
      ],
      "execution_count": null,
      "outputs": []
    },
    {
      "cell_type": "code",
      "metadata": {
        "scrolled": true,
        "id": "l38YgIwgUkWB",
        "colab_type": "code",
        "colab": {}
      },
      "source": [
        "np.eye(8, 4, k=1)"
      ],
      "execution_count": null,
      "outputs": []
    },
    {
      "cell_type": "code",
      "metadata": {
        "id": "_rHSAnmCUkWD",
        "colab_type": "code",
        "colab": {}
      },
      "source": [
        "np.eye(8, 4, k=-3)"
      ],
      "execution_count": null,
      "outputs": []
    },
    {
      "cell_type": "code",
      "metadata": {
        "scrolled": true,
        "id": "YzZQohIsUkWF",
        "colab_type": "code",
        "colab": {}
      },
      "source": [
        "\"Hello World\"[6]"
      ],
      "execution_count": null,
      "outputs": []
    },
    {
      "cell_type": "markdown",
      "metadata": {
        "id": "-2TGRoa1UkWH",
        "colab_type": "text"
      },
      "source": [
        "![purple-divider](https://user-images.githubusercontent.com/7065401/52071927-c1cd7100-2562-11e9-908a-dde91ba14e59.png)"
      ]
    }
  ]
}